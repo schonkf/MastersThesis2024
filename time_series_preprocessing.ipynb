{
 "cells": [
  {
   "cell_type": "code",
   "execution_count": 1,
   "id": "49583570-c820-4539-a56b-eb9c4d902f9f",
   "metadata": {
    "tags": []
   },
   "outputs": [],
   "source": [
    "def acceleration_preprocess(all_participants_data):\n",
    "    for participant_id, participant_data in all_participants_data.items():\n",
    "        acceleration_df = participant_data.get('Acceleration.csv')\n",
    "        if acceleration_df is None:\n",
    "            print(f\"No acceleration data found for participant {participant_id}\")\n",
    "            continue\n",
    "        \n",
    "        # Calculate magnitude and add it as a new column\n",
    "        acceleration_df['mag'] = np.sqrt(np.square(acceleration_df['X']) + np.square(acceleration_df['Y']) + np.square(acceleration_df['Z']))"
   ]
  },
  {
   "cell_type": "code",
   "execution_count": 2,
   "id": "ac99a0ec-bea5-4629-8741-be1da479b095",
   "metadata": {
    "tags": []
   },
   "outputs": [],
   "source": [
    "def wifi_preprocess(all_participants_data):\n",
    "    for participant_id, participant_data in all_participants_data.items():\n",
    "        wifi_df = participant_data.get('WiFi.csv')\n",
    "        if wifi_df is None:\n",
    "            print(f\"No WiFi data found for participant {participant_id}\")\n",
    "            continue\n",
    "        \n",
    "        # Sort by timestamp\n",
    "        wifi_df.sort_values(by='timestamp', inplace=True)\n",
    "\n",
    "        # Calculate features\n",
    "        wifi_df['bssid'] = wifi_df['bssid'].astype(str) + '-' + wifi_df['frequency'].astype(str)\n",
    "        wifi_df['prev_bssid'] = wifi_df.groupby('bssid')['bssid'].shift(1)  # Create prev_bssid column\n",
    "        wifi_df['prev_rssi'] = wifi_df.groupby('bssid')['rssi'].shift(1)\n",
    "        wifi_df['intersect'] = wifi_df.apply(lambda row: len(np.intersect1d([row['bssid']], [row['prev_bssid']])), axis=1)\n",
    "        wifi_df['union'] = wifi_df.apply(lambda row: len(np.union1d([row['bssid']], [row['prev_bssid']])), axis=1)\n",
    "        wifi_df['w'] = 1 / wifi_df['intersect']\n",
    "        wifi_df['cosine'] = wifi_df.apply(lambda row: 1 - dist.cosine([row['prev_rssi']], [row['rssi']]) if row['intersect'] > 0 else 0, axis=1)\n",
    "        wifi_df['euclidean'] = wifi_df.apply(lambda row: 1 / (1 + dist.euclidean([row['prev_rssi']], [row['rssi']], [row['w']])) if row['intersect'] > 0 else 0, axis=1)\n",
    "        wifi_df['manhattan'] = wifi_df.apply(lambda row: 1 / (1 + dist.cityblock([row['prev_rssi']], [row['rssi']], [row['w']])) if row['intersect'] > 0 else 0, axis=1)\n",
    "        wifi_df['jaccard'] = wifi_df['intersect'] / wifi_df['union'] if (wifi_df['union'] > 0).any() else 0\n",
    "\n",
    "        # Drop unnecessary columns\n",
    "        wifi_df.drop(columns=['prev_bssid', 'prev_rssi', 'intersect', 'union', 'w', 'rssi', 'bssid', 'ssid', 'frequency'], inplace=True)"
   ]
  },
  {
   "cell_type": "code",
   "execution_count": 8,
   "id": "26a7f73a-0a0a-4816-8e2d-5a14c430e490",
   "metadata": {
    "tags": []
   },
   "outputs": [],
   "source": [
    "#StepCount.csv\n",
    "def step_count_preprocess(all_participants_data):\n",
    "    for participant_id, participant_data in all_participants_data.items():\n",
    "        if 'StepCount.csv' in participant_data:\n",
    "            data = participant_data['StepCount.csv'].sort_index(axis=0, level='timestamp').assign(\n",
    "                steps=lambda x: (x['TotalSteps'] - x['TotalSteps'].shift(1))\n",
    "            )\n",
    "            data.drop(columns=['TotalSteps'], inplace=True)\n",
    "            participant_data['StepCount.csv'] = data"
   ]
  },
  {
   "cell_type": "code",
   "execution_count": 6,
   "id": "763e5cbf-fdc5-4986-8e00-bb4b0322f140",
   "metadata": {
    "tags": []
   },
   "outputs": [],
   "source": [
    "#MessageEvent.csv\n",
    "def messageevent_preprocess(all_participants_data):\n",
    "    for participant_id, participant_data in all_participants_data.items():\n",
    "        if 'MessageEvent.csv' in participant_data:\n",
    "            data = participant_data['MessageEvent.csv'].sort_index(axis=0, level='timestamp')\n",
    "            # Update the StepCount.csv dataframe in the participant's data\n",
    "            participant_data['MessageEvent.csv'] = data"
   ]
  },
  {
   "cell_type": "code",
   "execution_count": 7,
   "id": "4e9c0092-6670-46ab-942f-347531c9e971",
   "metadata": {
    "tags": []
   },
   "outputs": [],
   "source": [
    "#Distance.csv\n",
    "def distance_preprocess(all_participants_data):\n",
    "    for participant_id, participant_data in all_participants_data.items():\n",
    "        if 'Distance.csv' in participant_data:\n",
    "            data = participant_data['Distance.csv'].sort_index(axis=0, level='timestamp').assign(\n",
    "                distance=lambda x: (x['TotalDistance'] - x['TotalDistance'].shift(1))\n",
    "            )\n",
    "            # Update the StepCount.csv dataframe in the participant's data\n",
    "            data.drop(columns=['TotalDistance'], inplace=True)\n",
    "            participant_data['Distance.csv'] = data"
   ]
  },
  {
   "cell_type": "code",
   "execution_count": 6,
   "id": "8cfc65b6-3bd7-4973-b641-d22124ac2d78",
   "metadata": {
    "tags": []
   },
   "outputs": [],
   "source": [
    "def calculate_top_sleep_proxies(all_participants_data):\n",
    "    for participant_id, participant_data in all_participants_data.items():\n",
    "        if 'DeviceEvent.csv' in participant_data:\n",
    "            data = participant_data['DeviceEvent.csv']\n",
    "            sleep_proxies = {}\n",
    "            unlock_times = data[data['type'] == 'UNLOCK'].index\n",
    "\n",
    "            for timestamp, event in data[data['type'] == 'SCREEN_OFF'].iterrows():\n",
    "                screen_off_times = timestamp\n",
    "              # Vectorized approach to find next unlock time after screen off\n",
    "                next_unlock_time = unlock_times[unlock_times > screen_off_times].min()\n",
    "                if not pd.isna(next_unlock_time):\n",
    "                    time_diff = next_unlock_time - screen_off_times\n",
    "                    if time_diff > pd.Timedelta(0):\n",
    "                        date_key = screen_off_times.date()\n",
    "                        sleep_proxies[date_key] = max(sleep_proxies.get(date_key, pd.Timedelta(0)), time_diff)\n",
    "\n",
    "            sorted_proxies = sorted(sleep_proxies.items(), key=lambda x: x[0])\n",
    "            proxies_df = pd.DataFrame(sorted_proxies, columns=['Date', 'SleepProxy'])\n",
    "            proxies_df.set_index('Date', inplace = True)\n",
    "          # Update participant's data with proxies_df (assuming key)\n",
    "            participant_data['sleep_proxies'] = proxies_df"
   ]
  },
  {
   "cell_type": "code",
   "execution_count": 7,
   "id": "d908f572-a6f8-4d06-909c-df53e8ec7148",
   "metadata": {
    "tags": []
   },
   "outputs": [],
   "source": [
    "def delete_preprocess(all_participants_data, df_name):\n",
    "    # Iterate through each participant\n",
    "    for participant_id, participant_data in all_participants_data.items():\n",
    "        # Check if the participant has any of the specified dataframes\n",
    "            if df_name in participant_data:\n",
    "                del participant_data[df_name]"
   ]
  },
  {
   "cell_type": "code",
   "execution_count": 26,
   "id": "644998be-a914-4fc0-9f83-3ba338e9d41f",
   "metadata": {
    "tags": []
   },
   "outputs": [],
   "source": [
    "#ActivityEvent.csv\n",
    "def activityevent_preprocess(all_participants_data):\n",
    "    for participant_id, participant_data in all_participants_data.items():\n",
    "        if 'ActivityEvent.csv' in participant_data:\n",
    "            activity_event_data = participant_data['ActivityEvent.csv']\n",
    "            # Apply the transformation\n",
    "            transformed_df = activity_event_data.pivot_table(index='timestamp', columns='type', values='confidence', fill_value=0)\n",
    "            #transformed_df.set_index('timestamp', inplace = True)\n",
    "            # Store the transformed data in the participant's dictionary\n",
    "            participant_data['ActivityEvent.csv'] = transformed_df"
   ]
  },
  {
   "cell_type": "code",
   "execution_count": 9,
   "id": "af63ed70-d820-4677-a9aa-78124c61d967",
   "metadata": {
    "tags": []
   },
   "outputs": [],
   "source": [
    "#Calorie.csv\n",
    "def calorie_preprocess(all_participants_data):\n",
    "    for participant_id, participant_data in all_participants_data.items():\n",
    "        if 'Calorie.csv' in participant_data:\n",
    "            data = participant_data['Calorie.csv'].sort_index(axis=0, level='timestamp').assign(\n",
    "                calories=lambda x: (x['TotalCalories'] - x['TotalCalories'].shift(1))\n",
    "            )\n",
    "            # Update the StepCount.csv dataframe in the participant's data\n",
    "            data.drop(columns=['TotalCalories'], inplace=True)\n",
    "            participant_data['Calorie.csv'] = data"
   ]
  },
  {
   "cell_type": "code",
   "execution_count": 10,
   "id": "b352db10-65af-46a6-97ff-51e8de2872e7",
   "metadata": {
    "tags": []
   },
   "outputs": [],
   "source": [
    "#HR.csv\n",
    "def hr_preprocess(all_participants_data):\n",
    "    for participant_id, participant_data in all_participants_data.items():\n",
    "        if 'HR.csv' in participant_data: \n",
    "            data = participant_data['HR.csv'].sort_index(axis=0, level='timestamp')\n",
    "            data = data[(data['BPM'] >= 30) & (data['BPM'] <= 200)]\n",
    "            data = data.sort_values(by='timestamp')"
   ]
  },
  {
   "cell_type": "code",
   "execution_count": 11,
   "id": "0cfa25bf-4ac8-4fc8-b957-5d0834fac068",
   "metadata": {
    "tags": []
   },
   "outputs": [],
   "source": [
    "#SkinTemperature.csv\n",
    "def skintemp_preprocess(all_participants_data):\n",
    "    for participant_id, participant_data in all_participants_data.items():\n",
    "        if 'SkinTemperature.csv' in participant_data: \n",
    "            data = participant_data['SkinTemperature.csv'].sort_index(axis=0, level='timestamp')\n",
    "            data = data[(data['Temperature'] >= 31) & (data['Temperature'] <= 38)]\n",
    "            data = data.sort_values(by='timestamp')"
   ]
  },
  {
   "cell_type": "code",
   "execution_count": 12,
   "id": "38a6c9f2-b622-4a69-9bcd-19818ceb6058",
   "metadata": {
    "tags": []
   },
   "outputs": [],
   "source": [
    "# #Location.csv\n",
    "# def location_preprocess(all_participants_data):\n",
    "#     for participant_id, participant_data in all_participants_data.items():\n",
    "#         if 'Location.csv' in participant_data:\n",
    "#             data = participant_data['Location.csv'].sort_index(axis=0, level='timestamp')\n",
    "#             data['cluster'] = data.apply(lambda row: geo.encode(row['longitude'], row['latitude'], precision=7), axis=1)\n",
    "#             data.drop(columns=['longitude', 'latitude'], inplace=True)\n",
    "#             participant_data['Location.csv'] = data\n",
    "\n",
    "def location_preprocess(all_participants_data):\n",
    "    for participant_id, participant_data in all_participants_data.items():\n",
    "        if 'Location.csv' in participant_data:\n",
    "            data = participant_data['Location.csv'].sort_index(axis=0, level='timestamp')\n",
    "            if not data.empty:\n",
    "                data['cluster'] = data.apply(lambda row: geo.encode(row['longitude'], row['latitude'], precision=7), axis=1)\n",
    "                #data.drop(columns=['longitude', 'latitude'], inplace=True)\n",
    "            participant_data['Location.csv'] = data\n"
   ]
  },
  {
   "cell_type": "code",
   "execution_count": null,
   "id": "b2d97c45-5fd5-40f6-a78f-e5ec4f05f510",
   "metadata": {},
   "outputs": [],
   "source": []
  }
 ],
 "metadata": {
  "kernelspec": {
   "display_name": "Python 3 (ipykernel)",
   "language": "python",
   "name": "python3"
  },
  "language_info": {
   "codemirror_mode": {
    "name": "ipython",
    "version": 3
   },
   "file_extension": ".py",
   "mimetype": "text/x-python",
   "name": "python",
   "nbconvert_exporter": "python",
   "pygments_lexer": "ipython3",
   "version": "3.11.4"
  }
 },
 "nbformat": 4,
 "nbformat_minor": 5
}
