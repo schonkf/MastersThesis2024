{
 "cells": [
  {
   "cell_type": "code",
   "execution_count": 3,
   "id": "07af34da-0552-488b-879e-d3989fa6b1a2",
   "metadata": {
    "tags": []
   },
   "outputs": [],
   "source": [
    "import os\n",
    "import pandas as pd\n",
    "import numpy as np\n",
    "from datetime import timedelta\n",
    "import pygeohash as geo\n",
    "import scipy.spatial.distance as dist"
   ]
  },
  {
   "cell_type": "code",
   "execution_count": 5,
   "id": "e93ddcc2-4ae4-478a-b079-53912636bfde",
   "metadata": {
    "tags": []
   },
   "outputs": [],
   "source": [
    "def read_csv_files_in_folder(folder_path):\n",
    "    data_frames = {}\n",
    "    for file_name in os.listdir(folder_path):\n",
    "        if file_name.endswith('.csv'):\n",
    "            file_path = os.path.join(folder_path, file_name)\n",
    "            df = pd.read_csv(file_path)\n",
    "            data_frames[file_name] = df\n",
    "    return data_frames"
   ]
  },
  {
   "cell_type": "code",
   "execution_count": 2,
   "id": "285ce940-bbf7-4a76-8315-30b844b6d44f",
   "metadata": {
    "tags": []
   },
   "outputs": [],
   "source": [
    "def read_csv_files_in_participant_folders(main_folder_path):\n",
    "    all_participants_data = {}\n",
    "    for participant_folder in os.listdir(main_folder_path):\n",
    "        participant_folder_path = os.path.join(main_folder_path, participant_folder)\n",
    "        \n",
    "        # Check if it's a directory\n",
    "        if os.path.isdir(participant_folder_path):\n",
    "            # Read CSV files in participant folder\n",
    "            participant_data = read_csv_files_in_folder(participant_folder_path)\n",
    "            all_participants_data[participant_folder] = participant_data\n",
    "    \n",
    "    return all_participants_data"
   ]
  },
  {
   "cell_type": "code",
   "execution_count": 1,
   "id": "62a0c93d-db4c-492e-937f-8dcc70f9ae8c",
   "metadata": {
    "tags": []
   },
   "outputs": [],
   "source": [
    "def set_index_to_timestamp(all_participants_data, timestamp_column='timestamp'):\n",
    "    for participant_id, participant_data in all_participants_data.items():\n",
    "        for dataframe_name, df in participant_data.items():\n",
    "            if timestamp_column in df.columns:\n",
    "                df.set_index(timestamp_column, inplace=True)\n",
    "                all_participants_data[participant_id][dataframe_name] = df\n",
    "            else:\n",
    "                print(f\"Warning: Timestamp column '{timestamp_column}' not found in DataFrame '{dataframe_name}' of participant '{participant_id}'. Index not set.\")\n",
    "    return all_participants_data"
   ]
  },
  {
   "cell_type": "code",
   "execution_count": 1,
   "id": "2f896068-5060-4887-995f-56ccc2037df3",
   "metadata": {
    "tags": []
   },
   "outputs": [],
   "source": [
    "def drop_columns_in_participant_data(all_participants_data, columns_to_drop_per_df):\n",
    "    modified_participants_data = {}\n",
    "    \n",
    "    # Iterate over each participant's data\n",
    "    for participant_id, participant_data in all_participants_data.items():\n",
    "        modified_data = {}\n",
    "        \n",
    "        # Iterate over each DataFrame in the participant's data\n",
    "        for df_name, df in participant_data.items():\n",
    "            # Drop specified columns\n",
    "            columns_to_drop = columns_to_drop_per_df.get(df_name, [])\n",
    "            modified_df = df.drop(columns=columns_to_drop, errors='ignore')\n",
    "            modified_data[df_name] = modified_df\n",
    "        \n",
    "        modified_participants_data[participant_id] = modified_data\n",
    "    \n",
    "    return modified_participants_data"
   ]
  },
  {
   "cell_type": "code",
   "execution_count": 2,
   "id": "31e435e1-0fc9-45a1-9968-86541a9a64ed",
   "metadata": {
    "tags": []
   },
   "outputs": [],
   "source": [
    "def convert_to_korean_time(df, timestamp_columns):\n",
    "    if 'ResponseTime' in df.columns and df['ResponseTime'].dtype == 'int64':\n",
    "        for column in timestamp_columns:\n",
    "            if column in df.columns:\n",
    "                datetime_objs = pd.to_datetime(df[column], unit='ms')\n",
    "                datetime_korean = datetime_objs.dt.tz_localize('UTC').dt.tz_convert('Asia/Seoul')\n",
    "                df[column] = datetime_korean\n",
    "    return df"
   ]
  },
  {
   "cell_type": "code",
   "execution_count": 7,
   "id": "287525f5-2b62-4421-a065-cfbac252fc9f",
   "metadata": {
    "tags": []
   },
   "outputs": [],
   "source": [
    "def convert_to_korean_time_general(df, timestamp_columns):\n",
    "    for column in timestamp_columns:\n",
    "        if column in df.columns:\n",
    "            datetime_objs = pd.to_datetime(df[column], unit='ms')\n",
    "            datetime_korean = datetime_objs.dt.tz_localize('UTC').dt.tz_convert('Asia/Seoul')\n",
    "            df[column] = datetime_korean\n",
    "    return df"
   ]
  },
  {
   "cell_type": "code",
   "execution_count": 3,
   "id": "781479d0-61a6-4e81-9852-1ed28c5ba52c",
   "metadata": {
    "tags": []
   },
   "outputs": [],
   "source": [
    "def convert_to_korean_time_all(all_participants_data, timestamp_columns):\n",
    "    for participant_data in all_participants_data.values():\n",
    "        for df_name, df in participant_data.items():\n",
    "            if 'timestamp' in df.columns and df['timestamp'].dtype == 'int64':\n",
    "                for column in timestamp_columns:\n",
    "                    if column in df.columns:\n",
    "                        datetime_objs = pd.to_datetime(df[column], unit='ms')\n",
    "                        datetime_korean = datetime_objs.dt.tz_localize('UTC').dt.tz_convert('Asia/Seoul')\n",
    "                        df[column] = datetime_korean\n",
    "    return all_participants_data"
   ]
  },
  {
   "cell_type": "code",
   "execution_count": 14,
   "id": "03392c0f-5154-4186-b02f-ba89ef3b2dfa",
   "metadata": {
    "tags": []
   },
   "outputs": [],
   "source": [
    "def drop_columns(dataframe, columns_to_drop):\n",
    "    return dataframe.drop(columns=columns_to_drop, errors='ignore')"
   ]
  }
 ],
 "metadata": {
  "kernelspec": {
   "display_name": "Python 3 (ipykernel)",
   "language": "python",
   "name": "python3"
  },
  "language_info": {
   "codemirror_mode": {
    "name": "ipython",
    "version": 3
   },
   "file_extension": ".py",
   "mimetype": "text/x-python",
   "name": "python",
   "nbconvert_exporter": "python",
   "pygments_lexer": "ipython3",
   "version": "3.11.4"
  }
 },
 "nbformat": 4,
 "nbformat_minor": 5
}
