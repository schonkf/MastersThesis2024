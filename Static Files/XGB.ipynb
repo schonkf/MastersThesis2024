{
 "cells": [
  {
   "cell_type": "code",
   "execution_count": 1,
   "id": "b5bf7fed-906a-4aba-8162-c34828858f2a",
   "metadata": {
    "tags": []
   },
   "outputs": [
    {
     "name": "stderr",
     "output_type": "stream",
     "text": [
      "Using `tqdm.autonotebook.tqdm` in notebook mode. Use `tqdm.tqdm` instead to force console mode (e.g. in jupyter console)\n"
     ]
    }
   ],
   "source": [
    "import numpy as np\n",
    "import pandas as pd\n",
    "from xgboost import XGBClassifier\n",
    "from sklearn.model_selection import GridSearchCV, GroupKFold, RandomizedSearchCV\n",
    "from sklearn.metrics import f1_score, accuracy_score, confusion_matrix, precision_score, recall_score, classification_report\n",
    "import matplotlib.pyplot as plt\n",
    "from sklearn.preprocessing import LabelEncoder, StandardScaler\n",
    "from hyperopt import hp\n",
    "import random\n",
    "import shap\n"
   ]
  },
  {
   "cell_type": "code",
   "execution_count": 2,
   "id": "79235f8d-b927-437d-8d4c-baf59eb88906",
   "metadata": {
    "tags": []
   },
   "outputs": [],
   "source": [
    "tabular= pd.read_csv('/Users/finnschonknecht/Desktop/XGB_train_folder/tabular.csv')\n",
    "targets = pd.read_csv('/Users/finnschonknecht/Desktop/XGB_train_folder/binary_personalised_targets.csv')\n",
    "personality_df = pd.read_csv('/Users/finnschonknecht/Desktop/XGB_train_folder/personality_df.csv')"
   ]
  },
  {
   "cell_type": "code",
   "execution_count": 3,
   "id": "a5b697e8-03b8-4eb2-932a-aa33d46cd387",
   "metadata": {
    "tags": []
   },
   "outputs": [],
   "source": [
    "personality_columns = ['Openness', 'Agreeableness', 'Conscientiousness', 'Extraversion', 'Neuroticism']"
   ]
  },
  {
   "cell_type": "code",
   "execution_count": 4,
   "id": "de9be5f8-cee5-4e41-b270-f4245368408d",
   "metadata": {
    "tags": []
   },
   "outputs": [],
   "source": [
    "tabular.fillna(0, inplace=True)"
   ]
  },
  {
   "cell_type": "code",
   "execution_count": 5,
   "id": "f6e104fa-a2ba-4a9c-9a37-56bda6f00f98",
   "metadata": {
    "tags": []
   },
   "outputs": [],
   "source": [
    "unique_ids = tabular['Pcode'].unique()\n",
    "random.seed(150)   \n",
    "test_ids = np.random.choice(unique_ids, 15, replace=False)"
   ]
  },
  {
   "cell_type": "code",
   "execution_count": 6,
   "id": "4e8607b2-3a64-4d46-972f-997dec0e691f",
   "metadata": {
    "tags": []
   },
   "outputs": [],
   "source": [
    "test_data= tabular[tabular['Pcode'].isin(test_ids)]\n",
    "train_data= tabular[~tabular['Pcode'].isin(test_ids)]"
   ]
  },
  {
   "cell_type": "code",
   "execution_count": 7,
   "id": "336ee4f9-c3c6-4837-baa6-e9b93add43ff",
   "metadata": {
    "tags": []
   },
   "outputs": [],
   "source": [
    "def encode_dataframe(df):\n",
    "    # Encode the Gender column\n",
    "    if 'Gender' in df.columns:\n",
    "        le = LabelEncoder()\n",
    "        df['Gender'] = le.fit_transform(df['Gender'])\n",
    "\n",
    "    # Convert object columns to category if needed\n",
    "    for col in df.select_dtypes(include='object').columns:\n",
    "        df[col] = df[col].astype('category')\n",
    "    \n",
    "    return df\n",
    "\n",
    "def scale_numeric_columns(df_train, df_test, exclude_columns):\n",
    "    # Identify numeric columns\n",
    "    numeric_cols = df_train.select_dtypes(include=['float64', 'int64']).columns\n",
    "\n",
    "    # Exclude specified columns from numeric columns\n",
    "    numeric_cols = [col for col in numeric_cols if col not in exclude_columns]\n",
    "\n",
    "    # Initialize the StandardScaler\n",
    "    scaler = StandardScaler()\n",
    "\n",
    "    # Fit the scaler on the training data and transform the training data\n",
    "    df_train_scaled = df_train.copy()\n",
    "    df_train_scaled[numeric_cols] = scaler.fit_transform(df_train[numeric_cols])\n",
    "\n",
    "    # Transform the test data using the same scaler\n",
    "    df_test_scaled = df_test.copy()\n",
    "    df_test_scaled[numeric_cols] = scaler.transform(df_test[numeric_cols])\n",
    "\n",
    "    return df_train_scaled, df_test_scaled\n",
    "\n",
    "def create_personality_flags(df, personality_columns):\n",
    "    for col in personality_columns:\n",
    "        df[f'{col}_High'] = (df[col] >= 9).astype(int)\n",
    "    return df"
   ]
  },
  {
   "cell_type": "code",
   "execution_count": 8,
   "id": "e21a3e3a-e9ff-44c3-a1b1-976a4e0aee7f",
   "metadata": {
    "tags": []
   },
   "outputs": [],
   "source": [
    "train_data, test_data = scale_numeric_columns(\n",
    "    train_data, test_data, ['Stress_binary', 'Valence_binary', 'Arousal_binary', 'day_0', 'day_1', 'day_2', 'day_3', 'day_4', 'day_5', 'day_6'])"
   ]
  },
  {
   "cell_type": "code",
   "execution_count": 11,
   "id": "3863d6fc-d0d3-4580-930e-72079a37d240",
   "metadata": {
    "tags": []
   },
   "outputs": [],
   "source": [
    "def xgbGroupKFoldCV(data, train, test, unique_ids, test_ids, idcolumn, outcomevar, personality_columns, dropcols=[], n_splits=5):\n",
    "    \n",
    "    train_data = encode_dataframe(train.copy())\n",
    "    test_data = encode_dataframe(test.copy())\n",
    "    \n",
    "    # Create personality flags before standardization\n",
    "    train_data = create_personality_flags(train_data, personality_columns)\n",
    "    test_data = create_personality_flags(test_data, personality_columns)\n",
    "    \n",
    "    # Standardize numerical columns\n",
    "    train_data, test_data = scale_numeric_columns(train_data, test_data, dropcols + [outcomevar])\n",
    "\n",
    "    best_hyperparams = []\n",
    "    F1 = []\n",
    "    feature_importances_list = []\n",
    "\n",
    "    group_kfold = GroupKFold(n_splits=n_splits)\n",
    "\n",
    "    param_grid = {\n",
    "        'n_estimators': [100, 200, 1000],\n",
    "        'max_depth': [20],\n",
    "        'learning_rate': [0.01],\n",
    "        'subsample': [0.8]\n",
    "    }\n",
    "\n",
    "    # Step 2: Perform GroupKFold on the remaining data\n",
    "    for train_index, val_index in group_kfold.split(train_data, groups=train_data[idcolumn]):\n",
    "        data_train = train_data.iloc[train_index]\n",
    "        data_val = train_data.iloc[val_index]\n",
    "\n",
    "        xgb = XGBClassifier(random_state=0, n_jobs=-1, use_label_encoder=False, eval_metric='mlogloss')\n",
    "        randomized_search = RandomizedSearchCV(xgb, param_grid, cv=3, scoring='f1_macro', n_jobs=-1)\n",
    "        randomized_search.fit(data_train.drop(columns=dropcols + [outcomevar]), data_train[outcomevar])\n",
    "\n",
    "        best_params = randomized_search.best_params_\n",
    "        best_hyperparams.append(best_params)\n",
    "\n",
    "        xgb_best = XGBClassifier(**best_params, random_state=0, n_jobs=-1, use_label_encoder=False, eval_metric='mlogloss')\n",
    "        xgb_best.fit(data_train.drop(columns=dropcols + [outcomevar]), data_train[outcomevar])\n",
    "\n",
    "        predictions = xgb_best.predict(data_val.drop(columns=dropcols + [outcomevar]))\n",
    "        F1.append(f1_score(data_val[outcomevar], predictions, average= 'macro'))\n",
    "        \n",
    "        print('...Fold processing complete.')\n",
    "\n",
    "    mean_F1_micro = np.mean(F1)\n",
    "    std_F1_micro = np.std(F1)\n",
    "\n",
    "    # Use the best hyperparameters to train the model on the entire training set\n",
    "    best_params_avg = {key: np.mean([d[key] for d in best_hyperparams]) for key in best_hyperparams[0]}\n",
    "    best_params_avg = {k: int(v) if isinstance(v, float) and v.is_integer() else v for k, v in best_params_avg.items()}\n",
    "\n",
    "    final_model = XGBClassifier(**best_params_avg, random_state=0, n_jobs=-1, use_label_encoder=False, eval_metric='mlogloss')\n",
    "    final_model.fit(train_data.drop(columns=dropcols + [outcomevar]), train_data[outcomevar])\n",
    "    \n",
    "    feature_importances_final = final_model.feature_importances_\n",
    "    sorted_idx = np.argsort(feature_importances_final)[::-1]\n",
    "    \n",
    "\n",
    "    # Predict on the separate test set\n",
    "    test_data_for_shap = test_data.drop(columns=dropcols + [outcomevar])\n",
    "    test_predictions = final_model.predict(test_data_for_shap)\n",
    "    test_confusion_matrix = confusion_matrix(test_data[outcomevar], test_predictions)\n",
    "    test_F1_score = f1_score(test_data[outcomevar], test_predictions, average= 'macro')\n",
    "    report = classification_report(test_data[outcomevar], test_predictions)\n",
    "    \n",
    "\n",
    "    #explainer_final = shap.TreeExplainer(final_model, test_data_for_shap, feature_perturbation=\"interventional\")\n",
    "    #shap_values_final = explainer_final.shap_values(test_data_for_shap, check_additivity=False)\n",
    "\n",
    "    # Print metrics\n",
    "    print(f'Mean F1 (Overall): {mean_F1_micro}')\n",
    "    print(f'Std F1 (Overall): {std_F1_micro}')\n",
    "    \n",
    "    # Print confusion matrices\n",
    "    print('Overall Confusion Matrix:')\n",
    "    print(test_confusion_matrix)\n",
    "    \n",
    "    print(f'Test F1 Score: {test_F1_score}')\n",
    "    print(report)\n",
    "\n",
    "    return mean_F1_micro, std_F1_micro, test_F1_score, test_confusion_matrix, feature_importances_list, best_params_avg, final_model, test_predictions\n"
   ]
  },
  {
   "cell_type": "code",
   "execution_count": 12,
   "id": "a67e7f2b-20de-437b-93d3-0db076397539",
   "metadata": {
    "tags": []
   },
   "outputs": [
    {
     "name": "stderr",
     "output_type": "stream",
     "text": [
      "The total space of parameters 1 is smaller than n_iter=10. Running 1 iterations. For exhaustive searches, use GridSearchCV.\n"
     ]
    },
    {
     "name": "stdout",
     "output_type": "stream",
     "text": [
      "...Fold processing complete.\n"
     ]
    },
    {
     "name": "stderr",
     "output_type": "stream",
     "text": [
      "The total space of parameters 1 is smaller than n_iter=10. Running 1 iterations. For exhaustive searches, use GridSearchCV.\n"
     ]
    },
    {
     "name": "stdout",
     "output_type": "stream",
     "text": [
      "...Fold processing complete.\n"
     ]
    },
    {
     "name": "stderr",
     "output_type": "stream",
     "text": [
      "The total space of parameters 1 is smaller than n_iter=10. Running 1 iterations. For exhaustive searches, use GridSearchCV.\n"
     ]
    },
    {
     "name": "stdout",
     "output_type": "stream",
     "text": [
      "...Fold processing complete.\n"
     ]
    },
    {
     "name": "stderr",
     "output_type": "stream",
     "text": [
      "The total space of parameters 1 is smaller than n_iter=10. Running 1 iterations. For exhaustive searches, use GridSearchCV.\n"
     ]
    },
    {
     "name": "stdout",
     "output_type": "stream",
     "text": [
      "...Fold processing complete.\n"
     ]
    },
    {
     "name": "stderr",
     "output_type": "stream",
     "text": [
      "The total space of parameters 1 is smaller than n_iter=10. Running 1 iterations. For exhaustive searches, use GridSearchCV.\n"
     ]
    },
    {
     "name": "stdout",
     "output_type": "stream",
     "text": [
      "...Fold processing complete.\n",
      "Mean F1 (Overall): 0.5198387052315168\n",
      "Std F1 (Overall): 0.024389083487333287\n",
      "Overall Confusion Matrix:\n",
      "[[346 253]\n",
      " [254 214]]\n",
      "Test F1 Score: 0.5174508168571849\n",
      "              precision    recall  f1-score   support\n",
      "\n",
      "         0.0       0.58      0.58      0.58       599\n",
      "         1.0       0.46      0.46      0.46       468\n",
      "\n",
      "    accuracy                           0.52      1067\n",
      "   macro avg       0.52      0.52      0.52      1067\n",
      "weighted avg       0.52      0.52      0.52      1067\n",
      "\n"
     ]
    }
   ],
   "source": [
    "mean_F1_micro_stress, std_F1_micro_stress, test_F1_score_6_stress, test_confusion_matrix_stress, feature_importances_list_stress, best_params_avg_stress, final_model_stress, test_predictions_stress = xgbGroupKFoldCV(\n",
    "    data=tabular,\n",
    "    train=train_data,\n",
    "    test=test_data,\n",
    "    unique_ids=unique_ids,\n",
    "    test_ids=test_ids,\n",
    "    idcolumn='Pcode',\n",
    "    outcomevar='Stress_binary',\n",
    "    personality_columns=personality_columns,\n",
    "    dropcols=['Pcode', 'ResponseTime', 'Arousal_binary', 'Valence_binary'],\n",
    "    n_splits=5\n",
    ")"
   ]
  },
  {
   "cell_type": "code",
   "execution_count": 13,
   "id": "1addbf0e-e2a5-4444-b16a-498d5801e2d0",
   "metadata": {
    "tags": []
   },
   "outputs": [
    {
     "name": "stderr",
     "output_type": "stream",
     "text": [
      "The total space of parameters 1 is smaller than n_iter=10. Running 1 iterations. For exhaustive searches, use GridSearchCV.\n"
     ]
    },
    {
     "name": "stdout",
     "output_type": "stream",
     "text": [
      "...Fold processing complete.\n"
     ]
    },
    {
     "name": "stderr",
     "output_type": "stream",
     "text": [
      "The total space of parameters 1 is smaller than n_iter=10. Running 1 iterations. For exhaustive searches, use GridSearchCV.\n"
     ]
    },
    {
     "name": "stdout",
     "output_type": "stream",
     "text": [
      "...Fold processing complete.\n"
     ]
    },
    {
     "name": "stderr",
     "output_type": "stream",
     "text": [
      "The total space of parameters 1 is smaller than n_iter=10. Running 1 iterations. For exhaustive searches, use GridSearchCV.\n"
     ]
    },
    {
     "name": "stdout",
     "output_type": "stream",
     "text": [
      "...Fold processing complete.\n"
     ]
    },
    {
     "name": "stderr",
     "output_type": "stream",
     "text": [
      "The total space of parameters 1 is smaller than n_iter=10. Running 1 iterations. For exhaustive searches, use GridSearchCV.\n"
     ]
    },
    {
     "name": "stdout",
     "output_type": "stream",
     "text": [
      "...Fold processing complete.\n"
     ]
    },
    {
     "name": "stderr",
     "output_type": "stream",
     "text": [
      "The total space of parameters 1 is smaller than n_iter=10. Running 1 iterations. For exhaustive searches, use GridSearchCV.\n"
     ]
    },
    {
     "name": "stdout",
     "output_type": "stream",
     "text": [
      "...Fold processing complete.\n",
      "Mean F1 (Overall): 0.5427193777374855\n",
      "Std F1 (Overall): 0.023933697980955876\n",
      "Overall Confusion Matrix:\n",
      "[[159 310]\n",
      " [148 450]]\n",
      "Test F1 Score: 0.5362665684830633\n",
      "              precision    recall  f1-score   support\n",
      "\n",
      "         0.0       0.52      0.34      0.41       469\n",
      "         1.0       0.59      0.75      0.66       598\n",
      "\n",
      "    accuracy                           0.57      1067\n",
      "   macro avg       0.56      0.55      0.54      1067\n",
      "weighted avg       0.56      0.57      0.55      1067\n",
      "\n"
     ]
    }
   ],
   "source": [
    "mean_F1_micro_valence, std_F1_micro_valence, test_F1_score_6_valence, test_confusion_matrix_valence, feature_importances_list_valence, best_params_avg_valence, final_model_valence, test_predictions_valence = xgbGroupKFoldCV(\n",
    "    data=tabular,\n",
    "    train=train_data,\n",
    "    test=test_data,\n",
    "    unique_ids=unique_ids,\n",
    "    test_ids=test_ids,\n",
    "    idcolumn='Pcode',\n",
    "    outcomevar='Valence_binary',\n",
    "    personality_columns=personality_columns,\n",
    "    dropcols=['Pcode', 'ResponseTime', 'Arousal_binary', 'Stress_binary'],\n",
    "    n_splits=5\n",
    ")"
   ]
  },
  {
   "cell_type": "code",
   "execution_count": 14,
   "id": "53baa6b6-497c-44d5-8fed-4b77103a9f54",
   "metadata": {
    "tags": []
   },
   "outputs": [
    {
     "name": "stderr",
     "output_type": "stream",
     "text": [
      "The total space of parameters 1 is smaller than n_iter=10. Running 1 iterations. For exhaustive searches, use GridSearchCV.\n"
     ]
    },
    {
     "name": "stdout",
     "output_type": "stream",
     "text": [
      "...Fold processing complete.\n"
     ]
    },
    {
     "name": "stderr",
     "output_type": "stream",
     "text": [
      "The total space of parameters 1 is smaller than n_iter=10. Running 1 iterations. For exhaustive searches, use GridSearchCV.\n"
     ]
    },
    {
     "name": "stdout",
     "output_type": "stream",
     "text": [
      "...Fold processing complete.\n"
     ]
    },
    {
     "name": "stderr",
     "output_type": "stream",
     "text": [
      "The total space of parameters 1 is smaller than n_iter=10. Running 1 iterations. For exhaustive searches, use GridSearchCV.\n"
     ]
    },
    {
     "name": "stdout",
     "output_type": "stream",
     "text": [
      "...Fold processing complete.\n"
     ]
    },
    {
     "name": "stderr",
     "output_type": "stream",
     "text": [
      "The total space of parameters 1 is smaller than n_iter=10. Running 1 iterations. For exhaustive searches, use GridSearchCV.\n"
     ]
    },
    {
     "name": "stdout",
     "output_type": "stream",
     "text": [
      "...Fold processing complete.\n"
     ]
    },
    {
     "name": "stderr",
     "output_type": "stream",
     "text": [
      "The total space of parameters 1 is smaller than n_iter=10. Running 1 iterations. For exhaustive searches, use GridSearchCV.\n"
     ]
    },
    {
     "name": "stdout",
     "output_type": "stream",
     "text": [
      "...Fold processing complete.\n",
      "Mean F1 (Overall): 0.572978310029797\n",
      "Std F1 (Overall): 0.01765615427611624\n",
      "Overall Confusion Matrix:\n",
      "[[352 224]\n",
      " [223 268]]\n",
      "Test F1 Score: 0.5784558166502126\n",
      "              precision    recall  f1-score   support\n",
      "\n",
      "         0.0       0.61      0.61      0.61       576\n",
      "         1.0       0.54      0.55      0.55       491\n",
      "\n",
      "    accuracy                           0.58      1067\n",
      "   macro avg       0.58      0.58      0.58      1067\n",
      "weighted avg       0.58      0.58      0.58      1067\n",
      "\n"
     ]
    }
   ],
   "source": [
    "mean_F1_micro_arousal, std_F1_micro_arousal, test_F1_score_6_arousal, test_confusion_matrix_arousal, feature_importances_list_arousal, best_params_avg_arousal, final_model_arousal, test_predictions_arousal = xgbGroupKFoldCV(\n",
    "    data=tabular,\n",
    "    train=train_data,\n",
    "    test=test_data,\n",
    "    unique_ids=unique_ids,\n",
    "    test_ids=test_ids,\n",
    "    idcolumn='Pcode',\n",
    "    outcomevar='Arousal_binary',\n",
    "    personality_columns=personality_columns,\n",
    "    dropcols=['Pcode', 'ResponseTime', 'Valence_binary', 'Stress_binary'],\n",
    "    n_splits=5\n",
    ")"
   ]
  }
 ],
 "metadata": {
  "kernelspec": {
   "display_name": "Python 3 (ipykernel)",
   "language": "python",
   "name": "python3"
  },
  "language_info": {
   "codemirror_mode": {
    "name": "ipython",
    "version": 3
   },
   "file_extension": ".py",
   "mimetype": "text/x-python",
   "name": "python",
   "nbconvert_exporter": "python",
   "pygments_lexer": "ipython3",
   "version": "3.11.4"
  }
 },
 "nbformat": 4,
 "nbformat_minor": 5
}
