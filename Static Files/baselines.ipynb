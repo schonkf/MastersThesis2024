{
 "cells": [
  {
   "cell_type": "code",
   "execution_count": 1,
   "id": "234446f3-9a08-464e-bd0d-ec1763394bbe",
   "metadata": {
    "tags": []
   },
   "outputs": [],
   "source": [
    "import numpy as np\n",
    "import pandas as pd\n",
    "import random\n",
    "from sklearn.preprocessing import LabelEncoder, StandardScaler\n",
    "from sklearn.dummy import DummyClassifier\n",
    "from sklearn.naive_bayes import GaussianNB\n",
    "from sklearn.metrics import accuracy_score, classification_report, f1_score\n",
    "from sklearn.model_selection import GroupKFold"
   ]
  },
  {
   "cell_type": "code",
   "execution_count": 2,
   "id": "815235b7-8468-49ba-a67f-2423585e4ce3",
   "metadata": {
    "tags": []
   },
   "outputs": [],
   "source": [
    "tabular= pd.read_csv('/Users/finnschonknecht/Desktop/XGB_train_folder/tabular.csv')\n",
    "targets = pd.read_csv('/Users/finnschonknecht/Desktop/XGB_train_folder/binary_personalised_targets.csv')\n",
    "personality_df = pd.read_csv('/Users/finnschonknecht/Desktop/XGB_train_folder/personality_df.csv')"
   ]
  },
  {
   "cell_type": "code",
   "execution_count": 3,
   "id": "2d041bd3-12fe-4c6c-aa13-8605e945e02e",
   "metadata": {
    "tags": []
   },
   "outputs": [],
   "source": [
    "tabular.fillna(0, inplace=True)"
   ]
  },
  {
   "cell_type": "code",
   "execution_count": 4,
   "id": "762470ca-65cd-4470-b805-26a3dfeb3092",
   "metadata": {
    "tags": []
   },
   "outputs": [],
   "source": [
    "unique_ids = tabular['Pcode'].unique()\n",
    "random.seed(150)   \n",
    "test_ids = np.random.choice(unique_ids, 15, replace=False)"
   ]
  },
  {
   "cell_type": "code",
   "execution_count": 5,
   "id": "c811f573-92fb-42dc-86eb-6d9c836903c1",
   "metadata": {
    "tags": []
   },
   "outputs": [],
   "source": [
    "test_data= tabular[tabular['Pcode'].isin(test_ids)]\n",
    "train_data= tabular[~tabular['Pcode'].isin(test_ids)]"
   ]
  },
  {
   "cell_type": "code",
   "execution_count": 6,
   "id": "4db399b0-63b8-4995-8e1c-cdb175f0ea0c",
   "metadata": {
    "tags": []
   },
   "outputs": [],
   "source": [
    "def encode_dataframe(df):\n",
    "    # Encode the Gender column\n",
    "    if 'Gender' in df.columns:\n",
    "        le = LabelEncoder()\n",
    "        df['Gender'] = le.fit_transform(df['Gender'])\n",
    "\n",
    "    # Convert object columns to category if needed\n",
    "    for col in df.select_dtypes(include='object').columns:\n",
    "        df[col] = df[col].astype('category')\n",
    "    \n",
    "    return df\n",
    "\n",
    "def scale_numeric_columns(df_train, df_test, exclude_columns):\n",
    "    # Identify numeric columns\n",
    "    numeric_cols = df_train.select_dtypes(include=['float64', 'int64']).columns\n",
    "\n",
    "    # Exclude specified columns from numeric columns\n",
    "    numeric_cols = [col for col in numeric_cols if col not in exclude_columns]\n",
    "\n",
    "    # Initialize the StandardScaler\n",
    "    scaler = StandardScaler()\n",
    "\n",
    "    # Fit the scaler on the training data and transform the training data\n",
    "    df_train_scaled = df_train.copy()\n",
    "    df_train_scaled[numeric_cols] = scaler.fit_transform(df_train[numeric_cols])\n",
    "\n",
    "    # Transform the test data using the same scaler\n",
    "    df_test_scaled = df_test.copy()\n",
    "    df_test_scaled[numeric_cols] = scaler.transform(df_test[numeric_cols])\n",
    "\n",
    "    return df_train_scaled, df_test_scaled"
   ]
  },
  {
   "cell_type": "code",
   "execution_count": 7,
   "id": "63199b68-1bf5-4fe7-9d47-94a52bc41147",
   "metadata": {
    "tags": []
   },
   "outputs": [
    {
     "name": "stderr",
     "output_type": "stream",
     "text": [
      "/var/folders/2f/lmnd4wbj05z8q4kzs0x7m2580000gn/T/ipykernel_24767/2601409701.py:5: SettingWithCopyWarning: \n",
      "A value is trying to be set on a copy of a slice from a DataFrame.\n",
      "Try using .loc[row_indexer,col_indexer] = value instead\n",
      "\n",
      "See the caveats in the documentation: https://pandas.pydata.org/pandas-docs/stable/user_guide/indexing.html#returning-a-view-versus-a-copy\n",
      "  df['Gender'] = le.fit_transform(df['Gender'])\n",
      "/var/folders/2f/lmnd4wbj05z8q4kzs0x7m2580000gn/T/ipykernel_24767/2601409701.py:9: SettingWithCopyWarning: \n",
      "A value is trying to be set on a copy of a slice from a DataFrame.\n",
      "Try using .loc[row_indexer,col_indexer] = value instead\n",
      "\n",
      "See the caveats in the documentation: https://pandas.pydata.org/pandas-docs/stable/user_guide/indexing.html#returning-a-view-versus-a-copy\n",
      "  df[col] = df[col].astype('category')\n",
      "/var/folders/2f/lmnd4wbj05z8q4kzs0x7m2580000gn/T/ipykernel_24767/2601409701.py:9: SettingWithCopyWarning: \n",
      "A value is trying to be set on a copy of a slice from a DataFrame.\n",
      "Try using .loc[row_indexer,col_indexer] = value instead\n",
      "\n",
      "See the caveats in the documentation: https://pandas.pydata.org/pandas-docs/stable/user_guide/indexing.html#returning-a-view-versus-a-copy\n",
      "  df[col] = df[col].astype('category')\n"
     ]
    }
   ],
   "source": [
    "train_data = encode_dataframe(train_data)"
   ]
  },
  {
   "cell_type": "code",
   "execution_count": 8,
   "id": "be9749dc-11c8-470e-a783-6a9ccc2b2444",
   "metadata": {
    "tags": []
   },
   "outputs": [
    {
     "name": "stderr",
     "output_type": "stream",
     "text": [
      "/var/folders/2f/lmnd4wbj05z8q4kzs0x7m2580000gn/T/ipykernel_24767/2601409701.py:5: SettingWithCopyWarning: \n",
      "A value is trying to be set on a copy of a slice from a DataFrame.\n",
      "Try using .loc[row_indexer,col_indexer] = value instead\n",
      "\n",
      "See the caveats in the documentation: https://pandas.pydata.org/pandas-docs/stable/user_guide/indexing.html#returning-a-view-versus-a-copy\n",
      "  df['Gender'] = le.fit_transform(df['Gender'])\n",
      "/var/folders/2f/lmnd4wbj05z8q4kzs0x7m2580000gn/T/ipykernel_24767/2601409701.py:9: SettingWithCopyWarning: \n",
      "A value is trying to be set on a copy of a slice from a DataFrame.\n",
      "Try using .loc[row_indexer,col_indexer] = value instead\n",
      "\n",
      "See the caveats in the documentation: https://pandas.pydata.org/pandas-docs/stable/user_guide/indexing.html#returning-a-view-versus-a-copy\n",
      "  df[col] = df[col].astype('category')\n",
      "/var/folders/2f/lmnd4wbj05z8q4kzs0x7m2580000gn/T/ipykernel_24767/2601409701.py:9: SettingWithCopyWarning: \n",
      "A value is trying to be set on a copy of a slice from a DataFrame.\n",
      "Try using .loc[row_indexer,col_indexer] = value instead\n",
      "\n",
      "See the caveats in the documentation: https://pandas.pydata.org/pandas-docs/stable/user_guide/indexing.html#returning-a-view-versus-a-copy\n",
      "  df[col] = df[col].astype('category')\n"
     ]
    }
   ],
   "source": [
    "test_data = encode_dataframe(test_data)"
   ]
  },
  {
   "cell_type": "code",
   "execution_count": 9,
   "id": "7f1f887e-b8d4-45fa-b864-f586651ce684",
   "metadata": {
    "tags": []
   },
   "outputs": [],
   "source": [
    "train_data, test_data = scale_numeric_columns(\n",
    "    train_data, test_data, ['Stress_binary', 'Valence_binary', 'Arousal_binary', 'day_0', 'day_1', 'day_2', 'day_3', 'day_4', 'day_5', 'day_6'])"
   ]
  },
  {
   "cell_type": "code",
   "execution_count": 10,
   "id": "9aa0dc2e-c017-46cf-814f-3a6a513783ce",
   "metadata": {
    "tags": []
   },
   "outputs": [],
   "source": [
    "train_stress = train_data['Stress_binary']\n",
    "test_stress = test_data['Stress_binary']\n",
    "\n",
    "train_valence = train_data['Valence_binary']\n",
    "test_valence = test_data['Valence_binary']\n",
    "\n",
    "train_arousal = train_data['Arousal_binary']\n",
    "test_arousal = test_data['Arousal_binary']"
   ]
  },
  {
   "cell_type": "code",
   "execution_count": 11,
   "id": "ad7554d8-a003-496d-b1a1-6ca304151306",
   "metadata": {
    "tags": []
   },
   "outputs": [],
   "source": [
    "train_data = train_data.drop(columns=['Stress_binary', 'Arousal_binary', 'Valence_binary', 'ResponseTime'])"
   ]
  },
  {
   "cell_type": "code",
   "execution_count": 12,
   "id": "3d21148f-eace-48a5-a022-8dfda85c53ea",
   "metadata": {
    "tags": []
   },
   "outputs": [],
   "source": [
    "test_data = test_data.drop(columns=['Stress_binary', 'Arousal_binary', 'Valence_binary','ResponseTime'])"
   ]
  },
  {
   "cell_type": "code",
   "execution_count": 13,
   "id": "27e15777-244b-4a5f-81c1-720a4d767738",
   "metadata": {
    "tags": []
   },
   "outputs": [],
   "source": [
    "test_data = test_data.drop(columns=['Pcode'])"
   ]
  },
  {
   "cell_type": "markdown",
   "id": "7ae612a7-3d44-41d9-b88e-970f2ccd297a",
   "metadata": {},
   "source": [
    "## Majority Classifier"
   ]
  },
  {
   "cell_type": "code",
   "execution_count": 14,
   "id": "92af7c2e-f99d-4217-84cf-1c41a44e5166",
   "metadata": {
    "tags": []
   },
   "outputs": [
    {
     "name": "stdout",
     "output_type": "stream",
     "text": [
      "Mean Macro F1 Score: 0.34148037662086156\n",
      "STD of F1 scores during training: 0.026093847665018734\n"
     ]
    }
   ],
   "source": [
    "n_splits = 5\n",
    "group_kfold = GroupKFold(n_splits=n_splits)\n",
    "f1_scores = []\n",
    "\n",
    "for train_index, test_index in group_kfold.split(train_data, groups=train_data['Pcode']):\n",
    "    X_train, X_test = train_data.iloc[train_index].drop(columns='Pcode'), train_data.iloc[test_index].drop(columns='Pcode')\n",
    "    y_train, y_test = train_stress.iloc[train_index], train_stress.iloc[test_index]\n",
    "\n",
    "    # Fit Majority Classifier\n",
    "    majority_clf = DummyClassifier(strategy='most_frequent')\n",
    "    majority_clf.fit(X_train, y_train)\n",
    "\n",
    "    # Predict and evaluate\n",
    "    y_pred = majority_clf.predict(X_test)\n",
    "    macro_f1 = f1_score(y_test, y_pred, average='macro')\n",
    "    f1_scores.append(macro_f1)\n",
    "\n",
    "print(f'Mean Macro F1 Score: {np.mean(f1_scores)}')\n",
    "print(f'STD of F1 scores during training: {np.std(f1_scores)}')"
   ]
  },
  {
   "cell_type": "code",
   "execution_count": 15,
   "id": "4a310982-728e-4667-82e4-1782c0208ac1",
   "metadata": {
    "tags": []
   },
   "outputs": [
    {
     "name": "stdout",
     "output_type": "stream",
     "text": [
      "Test Macro-F1 Score: 0.3689676237018937\n"
     ]
    }
   ],
   "source": [
    "y_pred_test = majority_clf.predict(test_data)\n",
    "test_macro_f1 = f1_score(test_stress, y_pred_test, average='macro')\n",
    "print(\"Test Macro-F1 Score:\", test_macro_f1)"
   ]
  },
  {
   "cell_type": "code",
   "execution_count": 16,
   "id": "eff51b43-2c98-449a-b7ee-f339b6c8ca75",
   "metadata": {
    "tags": []
   },
   "outputs": [
    {
     "name": "stdout",
     "output_type": "stream",
     "text": [
      "Mean Macro F1 Score: 0.3588057237020674\n",
      "STD of F1 scores during training: 0.01864346920460392\n"
     ]
    }
   ],
   "source": [
    "n_splits = 5\n",
    "group_kfold = GroupKFold(n_splits=n_splits)\n",
    "f1_scores = []\n",
    "\n",
    "for train_index, test_index in group_kfold.split(train_data, groups=train_data['Pcode']):\n",
    "    X_train, X_test = train_data.iloc[train_index].drop(columns='Pcode'), train_data.iloc[test_index].drop(columns='Pcode')\n",
    "    y_train, y_test = train_valence.iloc[train_index], train_valence.iloc[test_index]\n",
    "\n",
    "    # Fit Majority Classifier\n",
    "    majority_clf = DummyClassifier(strategy='most_frequent')\n",
    "    majority_clf.fit(X_train, y_train)\n",
    "\n",
    "    # Predict and evaluate\n",
    "    y_pred = majority_clf.predict(X_test)\n",
    "    macro_f1 = f1_score(y_test, y_pred, average='macro')\n",
    "    f1_scores.append(macro_f1)\n",
    "\n",
    "print(f'Mean Macro F1 Score: {np.mean(f1_scores)}')\n",
    "print(f'STD of F1 scores during training: {np.std(f1_scores)}')"
   ]
  },
  {
   "cell_type": "code",
   "execution_count": 17,
   "id": "1e4124a7-5a89-4249-b8f2-ccc0d8da91ee",
   "metadata": {
    "tags": []
   },
   "outputs": [
    {
     "name": "stdout",
     "output_type": "stream",
     "text": [
      "Test Macro-F1 Score: 0.353566958698373\n"
     ]
    }
   ],
   "source": [
    "y_pred_test = majority_clf.predict(test_data)\n",
    "test_macro_f1 = f1_score(test_valence, y_pred_test, average='macro')\n",
    "print(\"Test Macro-F1 Score:\", test_macro_f1)"
   ]
  },
  {
   "cell_type": "code",
   "execution_count": 18,
   "id": "01ed5355-59e8-4178-bbcd-17ea9c1fa2ad",
   "metadata": {
    "tags": []
   },
   "outputs": [
    {
     "name": "stdout",
     "output_type": "stream",
     "text": [
      "Mean Macro F1 Score: 0.3417823685320419\n",
      "STD of F1 scores during training: 0.01566923729665864\n"
     ]
    }
   ],
   "source": [
    "n_splits = 5\n",
    "group_kfold = GroupKFold(n_splits=n_splits)\n",
    "f1_scores = []\n",
    "\n",
    "for train_index, test_index in group_kfold.split(train_data, groups=train_data['Pcode']):\n",
    "    X_train, X_test = train_data.iloc[train_index].drop(columns='Pcode'), train_data.iloc[test_index].drop(columns='Pcode')\n",
    "    y_train, y_test = train_arousal.iloc[train_index], train_arousal.iloc[test_index]\n",
    "\n",
    "    # Fit Majority Classifier\n",
    "    majority_clf = DummyClassifier(strategy='most_frequent')\n",
    "    majority_clf.fit(X_train, y_train)\n",
    "\n",
    "    # Predict and evaluate\n",
    "    y_pred = majority_clf.predict(X_test)\n",
    "    macro_f1 = f1_score(y_test, y_pred, average='macro')\n",
    "    f1_scores.append(macro_f1)\n",
    "\n",
    "print(f'Mean Macro F1 Score: {np.mean(f1_scores)}')\n",
    "print(f'STD of F1 scores during training: {np.std(f1_scores)}')"
   ]
  },
  {
   "cell_type": "code",
   "execution_count": 19,
   "id": "67d253ce-c634-4ca8-b1f5-463fc45ea67e",
   "metadata": {
    "tags": []
   },
   "outputs": [
    {
     "name": "stdout",
     "output_type": "stream",
     "text": [
      "Test Macro-F1 Score: 0.3373957665169981\n"
     ]
    }
   ],
   "source": [
    "y_pred_test = majority_clf.predict(test_data)\n",
    "test_macro_f1 = f1_score(test_arousal, y_pred_test, average='macro')\n",
    "print(\"Test Macro-F1 Score:\", test_macro_f1)"
   ]
  },
  {
   "cell_type": "markdown",
   "id": "769b4df7-b1f0-49be-9a4a-3ecbb0799840",
   "metadata": {},
   "source": [
    "## Naive Bayes"
   ]
  },
  {
   "cell_type": "code",
   "execution_count": 20,
   "id": "1895cf51-6360-4b12-ab95-2bec7eedbb73",
   "metadata": {
    "tags": []
   },
   "outputs": [
    {
     "name": "stdout",
     "output_type": "stream",
     "text": [
      "Mean Macro F1 Score: 0.47567272823973583\n",
      "STD of F1 scores during training: 0.032898100798772756\n"
     ]
    }
   ],
   "source": [
    "n_splits = 5\n",
    "group_kfold = GroupKFold(n_splits=n_splits)\n",
    "f1_scores = []\n",
    "\n",
    "for train_index, test_index in group_kfold.split(train_data, groups=train_data['Pcode']):\n",
    "    X_train, X_test = train_data.iloc[train_index].drop(columns='Pcode'), train_data.iloc[test_index].drop(columns='Pcode')\n",
    "    y_train, y_test = train_stress.iloc[train_index], train_stress.iloc[test_index]\n",
    "\n",
    "    # Fit Naive Bayes\n",
    "    naive_bayes = GaussianNB()\n",
    "    naive_bayes.fit(X_train, y_train)\n",
    "\n",
    "    # Predict and evaluate\n",
    "    y_pred = naive_bayes.predict(X_test)\n",
    "    macro_f1 = f1_score(y_test, y_pred, average='macro')\n",
    "    f1_scores.append(macro_f1)\n",
    "\n",
    "print(f'Mean Macro F1 Score: {np.mean(f1_scores)}')\n",
    "print(f'STD of F1 scores during training: {np.std(f1_scores)}')"
   ]
  },
  {
   "cell_type": "code",
   "execution_count": 21,
   "id": "7ece4b54-c1a1-41c6-8bab-c5cde21b94e2",
   "metadata": {
    "tags": []
   },
   "outputs": [
    {
     "name": "stdout",
     "output_type": "stream",
     "text": [
      "Test Macro-F1 Score: 0.5128064368206706\n"
     ]
    }
   ],
   "source": [
    "y_pred_test = naive_bayes.predict(test_data)\n",
    "test_macro_f1 = f1_score(test_stress, y_pred_test, average='macro')\n",
    "print(\"Test Macro-F1 Score:\", test_macro_f1)"
   ]
  },
  {
   "cell_type": "code",
   "execution_count": 22,
   "id": "90a3f024-e391-4f6d-bd48-91f17c129b2a",
   "metadata": {
    "tags": []
   },
   "outputs": [
    {
     "name": "stdout",
     "output_type": "stream",
     "text": [
      "Mean Macro F1 Score: 0.51677637251573\n",
      "STD of F1 scores during training: 0.021427159632991966\n"
     ]
    }
   ],
   "source": [
    "n_splits = 5\n",
    "group_kfold = GroupKFold(n_splits=n_splits)\n",
    "f1_scores = []\n",
    "\n",
    "for train_index, test_index in group_kfold.split(train_data, groups=train_data['Pcode']):\n",
    "    X_train, X_test = train_data.iloc[train_index].drop(columns='Pcode'), train_data.iloc[test_index].drop(columns='Pcode')\n",
    "    y_train, y_test = train_valence.iloc[train_index], train_valence.iloc[test_index]\n",
    "\n",
    "    # Fit Naive Bayes\n",
    "    naive_bayes = GaussianNB()\n",
    "    naive_bayes.fit(X_train, y_train)\n",
    "\n",
    "    # Predict and evaluate\n",
    "    y_pred = naive_bayes.predict(X_test)\n",
    "    macro_f1 = f1_score(y_test, y_pred, average='macro')\n",
    "    f1_scores.append(macro_f1)\n",
    "\n",
    "print(f'Mean Macro F1 Score: {np.mean(f1_scores)}')\n",
    "print(f'STD of F1 scores during training: {np.std(f1_scores)}')"
   ]
  },
  {
   "cell_type": "code",
   "execution_count": 23,
   "id": "f4d99a17-c0b4-4959-9ec6-458493190d3f",
   "metadata": {
    "tags": []
   },
   "outputs": [
    {
     "name": "stdout",
     "output_type": "stream",
     "text": [
      "Test Macro-F1 Score: 0.5472013390477651\n"
     ]
    }
   ],
   "source": [
    "y_pred_test = naive_bayes.predict(test_data)\n",
    "test_macro_f1 = f1_score(test_valence, y_pred_test, average='macro')\n",
    "print(\"Test Macro-F1 Score:\", test_macro_f1)"
   ]
  },
  {
   "cell_type": "code",
   "execution_count": 24,
   "id": "e3490c1c-8b68-42c8-ad1b-407f38b5309d",
   "metadata": {
    "tags": []
   },
   "outputs": [
    {
     "name": "stdout",
     "output_type": "stream",
     "text": [
      "Mean Macro F1 Score: 0.4735434580165103\n",
      "STD of F1 scores during training: 0.04801902665911414\n"
     ]
    }
   ],
   "source": [
    "n_splits = 5\n",
    "group_kfold = GroupKFold(n_splits=n_splits)\n",
    "f1_scores = []\n",
    "\n",
    "for train_index, test_index in group_kfold.split(train_data, groups=train_data['Pcode']):\n",
    "    X_train, X_test = train_data.iloc[train_index].drop(columns='Pcode'), train_data.iloc[test_index].drop(columns='Pcode')\n",
    "    y_train, y_test = train_arousal.iloc[train_index], train_arousal.iloc[test_index]\n",
    "\n",
    "    # Fit Naive Bayes\n",
    "    naive_bayes = GaussianNB()\n",
    "    naive_bayes.fit(X_train, y_train)\n",
    "\n",
    "    # Predict and evaluate\n",
    "    y_pred = naive_bayes.predict(X_test)\n",
    "    macro_f1 = f1_score(y_test, y_pred, average='macro')\n",
    "    f1_scores.append(macro_f1)\n",
    "\n",
    "print(f'Mean Macro F1 Score: {np.mean(f1_scores)}')\n",
    "print(f'STD of F1 scores during training: {np.std(f1_scores)}')"
   ]
  },
  {
   "cell_type": "code",
   "execution_count": 25,
   "id": "cc67b1af-7be9-4c30-bab5-aea76422e0d5",
   "metadata": {
    "tags": []
   },
   "outputs": [
    {
     "name": "stdout",
     "output_type": "stream",
     "text": [
      "Test Macro-F1 Score: 0.5341861235942065\n"
     ]
    }
   ],
   "source": [
    "y_pred_test = naive_bayes.predict(test_data)\n",
    "test_macro_f1 = f1_score(test_arousal, y_pred_test, average='macro')\n",
    "print(\"Test Macro-F1 Score:\", test_macro_f1)"
   ]
  }
 ],
 "metadata": {
  "kernelspec": {
   "display_name": "Python 3 (ipykernel)",
   "language": "python",
   "name": "python3"
  },
  "language_info": {
   "codemirror_mode": {
    "name": "ipython",
    "version": 3
   },
   "file_extension": ".py",
   "mimetype": "text/x-python",
   "name": "python",
   "nbconvert_exporter": "python",
   "pygments_lexer": "ipython3",
   "version": "3.11.4"
  }
 },
 "nbformat": 4,
 "nbformat_minor": 5
}
