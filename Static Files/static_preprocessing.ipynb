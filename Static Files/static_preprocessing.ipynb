{
 "cells": [
  {
   "cell_type": "code",
   "execution_count": 19,
   "id": "4012cf7e-cd67-4e55-8db8-1b5d44f9abd7",
   "metadata": {
    "tags": []
   },
   "outputs": [],
   "source": [
    "import os\n",
    "import pandas as pd\n",
    "import numpy as np\n",
    "from datetime import timedelta\n",
    "import pygeohash as geo\n",
    "import scipy.spatial.distance as dist"
   ]
  },
  {
   "cell_type": "code",
   "execution_count": 54,
   "id": "ea22a2cd-d20f-49c9-b4b8-89ddcc17f7c4",
   "metadata": {
    "tags": []
   },
   "outputs": [],
   "source": [
    "# Acceleration.csv\n",
    "def acceleration_preprocess(all_participants_data):\n",
    "    for participant_id, participant_data in all_participants_data.items():\n",
    "        acceleration_df = participant_data.get('Acceleration.csv')\n",
    "        if acceleration_df is None:\n",
    "            print(f\"No acceleration data found for participant {participant_id}\")\n",
    "            continue\n",
    "        \n",
    "        # Calculate magnitude and add it as a new column\n",
    "        acceleration_df['mag'] = np.sqrt(np.square(acceleration_df['X']) + np.square(acceleration_df['Y']) + np.square(acceleration_df['Z']))"
   ]
  },
  {
   "cell_type": "code",
   "execution_count": 4,
   "id": "565a7501-3325-4c6e-a04e-9ed626d2b060",
   "metadata": {
    "tags": []
   },
   "outputs": [],
   "source": [
    "#StepCount.csv\n",
    "def step_count_preprocess(all_participants_data):\n",
    "    for participant_id, participant_data in all_participants_data.items():\n",
    "        if 'StepCount.csv' in participant_data:\n",
    "            data = participant_data['StepCount.csv'].sort_index(axis=0, level='timestamp').assign(\n",
    "                steps=lambda x: (x['TotalSteps'] - x['TotalSteps'].shift(1))\n",
    "            )\n",
    "            participant_data['StepCount.csv'] = data"
   ]
  },
  {
   "cell_type": "code",
   "execution_count": 9,
   "id": "f613bdac-0042-42ab-a886-33c7a19c7d8e",
   "metadata": {
    "tags": []
   },
   "outputs": [],
   "source": [
    "#MessageEvent.csv\n",
    "def messageevent_preprocess(all_participants_data):\n",
    "    for participant_id, participant_data in all_participants_data.items():\n",
    "        if 'MessageEvent.csv' in participant_data:\n",
    "            data = participant_data['MessageEvent.csv'].sort_index(axis=0, level='timestamp')\n",
    "            # Update the StepCount.csv dataframe in the participant's data\n",
    "            participant_data['MessageEvent.csv'] = data"
   ]
  },
  {
   "cell_type": "code",
   "execution_count": 7,
   "id": "62e397cb-5224-4836-ac54-0b7a3a678a54",
   "metadata": {
    "tags": []
   },
   "outputs": [],
   "source": [
    "#Distance.csv\n",
    "def distance_preprocess(all_participants_data):\n",
    "    for participant_id, participant_data in all_participants_data.items():\n",
    "        if 'Distance.csv' in participant_data:\n",
    "            data = participant_data['Distance.csv'].sort_index(axis=0, level='timestamp').assign(\n",
    "                steps=lambda x: (x['TotalDistance'] - x['TotalDistance'].shift(1))\n",
    "            )\n",
    "            # Update the StepCount.csv dataframe in the participant's data\n",
    "            participant_data['Distance.csv'] = data"
   ]
  },
  {
   "cell_type": "code",
   "execution_count": 2,
   "id": "146a3308-6339-4705-b3c5-c60acbf0ecfb",
   "metadata": {
    "tags": []
   },
   "outputs": [],
   "source": [
    "def calculate_top_sleep_proxies(all_participants_data):\n",
    "    for participant_id, participant_data in all_participants_data.items():\n",
    "        if 'DeviceEvent.csv' in participant_data:\n",
    "            data = participant_data['DeviceEvent.csv']\n",
    "            sleep_proxies = {}\n",
    "            unlock_times = data[data['type'] == 'UNLOCK'].index\n",
    "\n",
    "            for timestamp, event in data[data['type'] == 'SCREEN_OFF'].iterrows():\n",
    "                screen_off_times = timestamp\n",
    "              # Vectorized approach to find next unlock time after screen off\n",
    "                next_unlock_time = unlock_times[unlock_times > screen_off_times].min()\n",
    "                if not pd.isna(next_unlock_time):\n",
    "                    time_diff = next_unlock_time - screen_off_times\n",
    "                    if time_diff > pd.Timedelta(0):\n",
    "                        date_key = screen_off_times.date()\n",
    "                        sleep_proxies[date_key] = max(sleep_proxies.get(date_key, pd.Timedelta(0)), time_diff)\n",
    "\n",
    "            sorted_proxies = sorted(sleep_proxies.items(), key=lambda x: x[0])\n",
    "            proxies_df = pd.DataFrame(sorted_proxies, columns=['Date', 'SleepProxy'])\n",
    "            proxies_df.set_index('Date', inplace = True)\n",
    "          # Update participant's data with proxies_df (assuming key)\n",
    "            participant_data['sleep_proxies'] = proxies_df"
   ]
  },
  {
   "cell_type": "code",
   "execution_count": 3,
   "id": "d0bd37b2-e6ff-4464-b33c-a45f2b1bdb6b",
   "metadata": {
    "tags": []
   },
   "outputs": [],
   "source": [
    "#DataTraffic.csv / Connectivity.csv / EDA.csv / ActivityTransition.csv / MediaEvent.csv / InstalledApp.csv / BatteryEvent.csv\n",
    "def delete_preprocess(all_participants_data, df_name):\n",
    "    # Iterate through each participant\n",
    "    for participant_id, participant_data in all_participants_data.items():\n",
    "        # Check if the participant has any of the specified dataframes\n",
    "            if df_name in participant_data:\n",
    "                del participant_data[df_name]"
   ]
  },
  {
   "cell_type": "code",
   "execution_count": 42,
   "id": "400d76ef-4a1b-4e87-b417-ca08e69d2938",
   "metadata": {
    "tags": []
   },
   "outputs": [],
   "source": [
    "#ActivityEvent.csv\n",
    "def activityevent_preprocess(all_participants_data):\n",
    "    for participant_id, participant_data in all_participants_data.items():\n",
    "        if 'ActivityEvent.csv' in participant_data:\n",
    "            activity_event_data = participant_data['ActivityEvent.csv']\n",
    "            # Apply the transformation\n",
    "            transformed_df = activity_event_data.pivot_table(index='timestamp', columns='type', values='confidence', fill_value=0)\n",
    "            #transformed_df.set_index('timestamp', inplace = True)\n",
    "            # Store the transformed data in the participant's dictionary\n",
    "            participant_data['ActivityEvent.csv'] = transformed_df"
   ]
  },
  {
   "cell_type": "code",
   "execution_count": 1,
   "id": "6a1725e5-4a96-416f-89d7-d39184ab1e4f",
   "metadata": {
    "tags": []
   },
   "outputs": [],
   "source": [
    "#Calorie.csv\n",
    "def calorie_preprocess(all_participants_data):\n",
    "    for participant_id, participant_data in all_participants_data.items():\n",
    "        if 'Calorie.csv' in participant_data:\n",
    "            data = participant_data['Calorie.csv'].sort_index(axis=0, level='timestamp').assign(\n",
    "                steps=lambda x: (x['TotalCalories'] - x['TotalCalories'].shift(1))\n",
    "            )\n",
    "            # Update the StepCount.csv dataframe in the participant's data\n",
    "            participant_data['Calories.csv'] = data"
   ]
  },
  {
   "cell_type": "code",
   "execution_count": 1,
   "id": "28d5ac5d-b748-40b4-9995-cdea51be1722",
   "metadata": {},
   "outputs": [],
   "source": [
    "#Location.csv\n",
    "def location_preprocess(all_participants_data):\n",
    "    for participant_id, participant_data in all_participants_data.items():\n",
    "        if 'Location.csv' in participant_data:\n",
    "            data = participant_data['Location.csv'].sort_index(axis=0, level='timestamp')\n",
    "            data['cluster'] = data.apply(lambda row: geo.encode(row['longitude'], row['latitude'], precision=7), axis=1)\n",
    "            participant_data['Location.csv'] = data"
   ]
  },
  {
   "cell_type": "code",
   "execution_count": 5,
   "id": "34f52dbc-fa91-4e33-9380-3990b13002ba",
   "metadata": {
    "tags": []
   },
   "outputs": [],
   "source": [
    "#HR.csv\n",
    "def hr_preprocess(all_participants_data):\n",
    "    for participant_id, participant_data in all_participants_data.items():\n",
    "        if 'HR.csv' in participant_data: \n",
    "            data = participant_data['HR.csv'].sort_index(axis=0, level='timestamp')\n",
    "            data = data[(data['BPM'] >= 30) & (data['BPM'] <= 200)]\n",
    "            data = data.sort_values(by='timestamp')"
   ]
  },
  {
   "cell_type": "code",
   "execution_count": 8,
   "id": "087a7fac-c838-4c2e-9404-fec2c69d5be3",
   "metadata": {
    "tags": []
   },
   "outputs": [],
   "source": [
    "#SkinTemperature.csv\n",
    "def skintemp_preprocess(all_participants_data):\n",
    "    for participant_id, participant_data in all_participants_data.items():\n",
    "        if 'SkinTemperature.csv' in participant_data: \n",
    "            data = participant_data['SkinTemperature.csv'].sort_index(axis=0, level='timestamp')\n",
    "            data = data[(data['Temperature'] >= 31) & (data['Temperature'] <= 38)]\n",
    "            data = data.sort_values(by='timestamp')"
   ]
  }
 ],
 "metadata": {
  "kernelspec": {
   "display_name": "Python 3 (ipykernel)",
   "language": "python",
   "name": "python3"
  },
  "language_info": {
   "codemirror_mode": {
    "name": "ipython",
    "version": 3
   },
   "file_extension": ".py",
   "mimetype": "text/x-python",
   "name": "python",
   "nbconvert_exporter": "python",
   "pygments_lexer": "ipython3",
   "version": "3.11.4"
  }
 },
 "nbformat": 4,
 "nbformat_minor": 5
}
